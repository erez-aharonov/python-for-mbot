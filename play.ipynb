{
 "cells": [
  {
   "cell_type": "code",
   "execution_count": 1,
   "metadata": {},
   "outputs": [],
   "source": [
    "import pandas as pd\n",
    "import random\n",
    "# from matplotlib import pyplot as plt\n",
    "# import numpy as np\n",
    "from time import sleep\n",
    "import datetime\n",
    "from playsound import playsound\n",
    "from pydub import AudioSegment\n",
    "from pydub.playback import play\n",
    "from IPython.display import clear_output\n",
    "from lib.mbot2 import Robot"
   ]
  },
  {
   "cell_type": "markdown",
   "metadata": {},
   "source": [
    "# Init"
   ]
  },
  {
   "cell_type": "code",
   "execution_count": 2,
   "metadata": {},
   "outputs": [],
   "source": [
    "robot = Robot(\"/dev/ttyUSB1\", debug=False)"
   ]
  },
  {
   "cell_type": "markdown",
   "metadata": {},
   "source": [
    "# RGB LED"
   ]
  },
  {
   "cell_type": "code",
   "execution_count": null,
   "metadata": {},
   "outputs": [],
   "source": [
    "for _ in range(10):\n",
    "    robot.do_rgb_led_on_board(random.randint(0, 255), random.randint(0, 255), random.randint(0, 255))\n",
    "    sleep(0.5)"
   ]
  },
  {
   "cell_type": "markdown",
   "metadata": {},
   "source": [
    "# Line follower"
   ]
  },
  {
   "cell_type": "code",
   "execution_count": null,
   "metadata": {},
   "outputs": [],
   "source": [
    "robot.request_line_follower(2)"
   ]
  },
  {
   "cell_type": "markdown",
   "metadata": {},
   "source": [
    "# Light sensor"
   ]
  },
  {
   "cell_type": "code",
   "execution_count": null,
   "metadata": {},
   "outputs": [],
   "source": [
    "robot.do_rgb_led_on_board(0, 0, 0)\n",
    "robot.request_light_on_board()"
   ]
  },
  {
   "cell_type": "markdown",
   "metadata": {},
   "source": [
    "# Ultra sonic sensor"
   ]
  },
  {
   "cell_type": "code",
   "execution_count": null,
   "metadata": {},
   "outputs": [],
   "source": [
    "robot.request_ultrasonic_sensor(3)"
   ]
  },
  {
   "cell_type": "markdown",
   "metadata": {},
   "source": [
    "# Buzzer"
   ]
  },
  {
   "cell_type": "code",
   "execution_count": null,
   "metadata": {},
   "outputs": [],
   "source": [
    "music = [\"E4\",\"E4\",\"F4\",\"G4\",\"G4\",\"F4\",\"E4\",\"D4\",\"C4\",\"C4\",\"D4\",\"E4\",\"E4\",\"D4\",\"D4\"]\n",
    "for tone in music:\n",
    "    robot.do_buzzer(tone ,500)"
   ]
  },
  {
   "cell_type": "markdown",
   "metadata": {},
   "source": [
    "# Motor"
   ]
  },
  {
   "cell_type": "code",
   "execution_count": null,
   "metadata": {},
   "outputs": [],
   "source": [
    "robot.do_move(0, 255)"
   ]
  },
  {
   "cell_type": "code",
   "execution_count": null,
   "metadata": {},
   "outputs": [],
   "source": [
    "robot.do_move(255, 0)"
   ]
  },
  {
   "cell_type": "code",
   "execution_count": null,
   "metadata": {},
   "outputs": [],
   "source": [
    "robot.do_move(0, 0)"
   ]
  },
  {
   "cell_type": "markdown",
   "metadata": {},
   "source": [
    "# play sound"
   ]
  },
  {
   "cell_type": "code",
   "execution_count": null,
   "metadata": {},
   "outputs": [],
   "source": [
    "song = AudioSegment.from_wav('/home/erez/test.wav')"
   ]
  },
  {
   "cell_type": "code",
   "execution_count": null,
   "metadata": {},
   "outputs": [],
   "source": [
    "while True:\n",
    "    distance = robot.request_ultrasonic_sensor(5, 3)\n",
    "    print(distance)\n",
    "    if distance < 5: \n",
    "        print('playing')\n",
    "        play(song)\n",
    "    clear_output(wait=True)        "
   ]
  },
  {
   "cell_type": "markdown",
   "metadata": {},
   "source": [
    "# avoid obstacle"
   ]
  },
  {
   "cell_type": "code",
   "execution_count": null,
   "metadata": {},
   "outputs": [],
   "source": [
    "robot.request_ultrasonic_sensor(3)"
   ]
  },
  {
   "cell_type": "code",
   "execution_count": null,
   "metadata": {},
   "outputs": [],
   "source": [
    "robot.do_move(-255, 255)\n",
    "while True:\n",
    "    distance = robot.request_ultrasonic_sensor(3)\n",
    "    print(distance)\n",
    "    sleep(0.25)\n",
    "    clear_output(wait=True)  "
   ]
  },
  {
   "cell_type": "code",
   "execution_count": null,
   "metadata": {},
   "outputs": [],
   "source": [
    "robot.do_move(0, 0)\n",
    "robot.do_rgb_led_on_board(0, 0, 0)"
   ]
  },
  {
   "cell_type": "code",
   "execution_count": null,
   "metadata": {},
   "outputs": [],
   "source": [
    "distance = robot.request_ultrasonic_sensor(3)\n",
    "distance"
   ]
  },
  {
   "cell_type": "code",
   "execution_count": null,
   "metadata": {},
   "outputs": [],
   "source": [
    "time.time()"
   ]
  },
  {
   "cell_type": "code",
   "execution_count": null,
   "metadata": {},
   "outputs": [],
   "source": [
    "now = datetime.datetime.now()"
   ]
  },
  {
   "cell_type": "code",
   "execution_count": null,
   "metadata": {},
   "outputs": [],
   "source": [
    "datetime.datetime.now() - now"
   ]
  },
  {
   "cell_type": "code",
   "execution_count": 3,
   "metadata": {},
   "outputs": [],
   "source": [
    "light_list = []\n",
    "start = datetime.datetime.now()\n",
    "robot.do_move(255, 255)\n",
    "robot.do_rgb_led_on_board(0, 0, 0)\n",
    "while (datetime.datetime.now() - start).total_seconds() < 5:\n",
    "    light = robot.request_light_on_board()\n",
    "    light_list.append(light)\n",
    "robot.do_move(0, 0)"
   ]
  },
  {
   "cell_type": "code",
   "execution_count": 4,
   "metadata": {},
   "outputs": [
    {
     "data": {
      "text/plain": [
       "[988.0,\n",
       " 992.0,\n",
       " 999.0,\n",
       " 991.0,\n",
       " 991.0,\n",
       " 995.0,\n",
       " 997.0,\n",
       " 999.0,\n",
       " 996.0,\n",
       " 992.0,\n",
       " 997.0,\n",
       " 993.0,\n",
       " 997.0,\n",
       " 997.0,\n",
       " 997.0,\n",
       " 997.0,\n",
       " 998.0,\n",
       " 992.0,\n",
       " 995.0,\n",
       " 995.0,\n",
       " 991.0,\n",
       " 996.0,\n",
       " 997.0,\n",
       " 997.0,\n",
       " 997.0,\n",
       " 999.0,\n",
       " 998.0,\n",
       " 993.0,\n",
       " 995.0,\n",
       " 997.0,\n",
       " 997.0,\n",
       " 998.0,\n",
       " 995.0,\n",
       " 993.0,\n",
       " 994.0,\n",
       " 997.0,\n",
       " 995.0,\n",
       " 993.0,\n",
       " 995.0,\n",
       " 997.0,\n",
       " 994.0,\n",
       " 997.0,\n",
       " 997.0,\n",
       " 991.0,\n",
       " 991.0,\n",
       " 997.0,\n",
       " 997.0,\n",
       " 993.0,\n",
       " 991.0,\n",
       " 994.0,\n",
       " 991.0,\n",
       " 996.0,\n",
       " 989.0,\n",
       " 997.0,\n",
       " 996.0,\n",
       " 996.0,\n",
       " 994.0,\n",
       " 991.0,\n",
       " 993.0,\n",
       " 995.0,\n",
       " 993.0,\n",
       " 989.0,\n",
       " 993.0,\n",
       " 991.0,\n",
       " 996.0,\n",
       " 993.0,\n",
       " 987.0,\n",
       " 991.0,\n",
       " 989.0,\n",
       " 986.0,\n",
       " 991.0,\n",
       " 989.0,\n",
       " 986.0,\n",
       " 988.0,\n",
       " 987.0]"
      ]
     },
     "execution_count": 4,
     "metadata": {},
     "output_type": "execute_result"
    }
   ],
   "source": [
    "light_list"
   ]
  },
  {
   "cell_type": "code",
   "execution_count": null,
   "metadata": {},
   "outputs": [],
   "source": []
  }
 ],
 "metadata": {
  "kernelspec": {
   "display_name": "Python 3",
   "language": "python",
   "name": "python3"
  },
  "language_info": {
   "codemirror_mode": {
    "name": "ipython",
    "version": 3
   },
   "file_extension": ".py",
   "mimetype": "text/x-python",
   "name": "python",
   "nbconvert_exporter": "python",
   "pygments_lexer": "ipython3",
   "version": "3.7.6"
  }
 },
 "nbformat": 4,
 "nbformat_minor": 4
}
