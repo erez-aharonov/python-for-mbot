{
 "cells": [
  {
   "cell_type": "code",
   "execution_count": 14,
   "metadata": {},
   "outputs": [],
   "source": [
    "from lib.mbot2 import Robot\n",
    "import random\n",
    "# from matplotlib import pyplot as plt\n",
    "# import numpy as np\n",
    "from time import sleep\n",
    "from playsound import playsound\n",
    "from pydub import AudioSegment\n",
    "from pydub.playback import play\n",
    "from IPython.display import clear_output"
   ]
  },
  {
   "cell_type": "markdown",
   "metadata": {},
   "source": [
    "# Init"
   ]
  },
  {
   "cell_type": "code",
   "execution_count": 2,
   "metadata": {},
   "outputs": [],
   "source": [
    "robot = Robot(\"/dev/ttyUSB0\")"
   ]
  },
  {
   "cell_type": "markdown",
   "metadata": {},
   "source": [
    "# RGB LED"
   ]
  },
  {
   "cell_type": "code",
   "execution_count": 3,
   "metadata": {},
   "outputs": [],
   "source": [
    "for _ in range(10):\n",
    "    robot.do_rgb_led_on_board(1, random.randint(0, 255), random.randint(0, 255), random.randint(0, 255))\n",
    "    sleep(0.5)"
   ]
  },
  {
   "cell_type": "markdown",
   "metadata": {},
   "source": [
    "# Line follower"
   ]
  },
  {
   "cell_type": "code",
   "execution_count": 4,
   "metadata": {},
   "outputs": [
    {
     "name": "stdout",
     "output_type": "stream",
     "text": [
      "buffer: ['0x59', '0x95', '0xc9', '0xcd', '0xa5', '0xbd', '0xb9', '0xe9', '0x20', '0x30', '0x36', '0x2e', '0x30', '0x31', '0x2e', '0x30', '0x30', '0x39', '0xd', '0xa', '0xff', '0x55', '0xd', '0xa', '0xff', '0x55', '0xd', '0xa', '0xff', '0x55', '0xd', '0xa', '0xff', '0x55', '0xd', '0xa', '0xff', '0x55', '0xd', '0xa', '0xff', '0x55', '0xd', '0xa', '0xff', '0x55', '0xd', '0xa', '0xff', '0x55', '0xd', '0xa', '0xff', '0x55', '0xd', '0xa', '0xff', '0x55', '0xd', '0xa', '0xff', '0x55', '0x1', '0x2', '0x0', '0x0', '0x40', '0x40', '0xd', '0xa']\n"
     ]
    },
    {
     "data": {
      "text/plain": [
       "3.0"
      ]
     },
     "execution_count": 4,
     "metadata": {},
     "output_type": "execute_result"
    }
   ],
   "source": [
    "robot.request_line_follower(1, 2)"
   ]
  },
  {
   "cell_type": "markdown",
   "metadata": {},
   "source": [
    "# Light sensor"
   ]
  },
  {
   "cell_type": "code",
   "execution_count": 5,
   "metadata": {},
   "outputs": [
    {
     "name": "stdout",
     "output_type": "stream",
     "text": [
      "buffer: ['0xff', '0x55', '0xd', '0xa', '0xff', '0x55', '0x3', '0x2', '0x0', '0x40', '0x7b', '0x44', '0xd', '0xa']\n"
     ]
    },
    {
     "data": {
      "text/plain": [
       "1005.0"
      ]
     },
     "execution_count": 5,
     "metadata": {},
     "output_type": "execute_result"
    }
   ],
   "source": [
    "robot.do_rgb_led_on_board(1, 0, 0, 0)\n",
    "robot.request_light_on_board(3)"
   ]
  },
  {
   "cell_type": "markdown",
   "metadata": {},
   "source": [
    "# Ultra sonic sensor"
   ]
  },
  {
   "cell_type": "code",
   "execution_count": 6,
   "metadata": {},
   "outputs": [
    {
     "name": "stdout",
     "output_type": "stream",
     "text": [
      "buffer: ['0xff', '0x55', '0x5', '0x2', '0x47', '0x58', '0xe', '0x41', '0xd', '0xa']\n"
     ]
    },
    {
     "data": {
      "text/plain": [
       "8.896552085876465"
      ]
     },
     "execution_count": 6,
     "metadata": {},
     "output_type": "execute_result"
    }
   ],
   "source": [
    "robot.request_ultrasonic_sensor(5, 3)"
   ]
  },
  {
   "cell_type": "markdown",
   "metadata": {},
   "source": [
    "# Buzzer"
   ]
  },
  {
   "cell_type": "code",
   "execution_count": 7,
   "metadata": {},
   "outputs": [],
   "source": [
    "music = [\"E4\",\"E4\",\"F4\",\"G4\",\"G4\",\"F4\",\"E4\",\"D4\",\"C4\",\"C4\",\"D4\",\"E4\",\"E4\",\"D4\",\"D4\"]\n",
    "for tone in music:\n",
    "    robot.do_buzzer(tone ,500)"
   ]
  },
  {
   "cell_type": "markdown",
   "metadata": {},
   "source": [
    "# Motor"
   ]
  },
  {
   "cell_type": "code",
   "execution_count": 8,
   "metadata": {},
   "outputs": [],
   "source": [
    "robot.do_move(0, 255)"
   ]
  },
  {
   "cell_type": "code",
   "execution_count": 9,
   "metadata": {},
   "outputs": [],
   "source": [
    "robot.do_move(255, 0)"
   ]
  },
  {
   "cell_type": "code",
   "execution_count": 10,
   "metadata": {},
   "outputs": [],
   "source": [
    "robot.do_move(0, 0)"
   ]
  },
  {
   "cell_type": "markdown",
   "metadata": {},
   "source": [
    "# play sound"
   ]
  },
  {
   "cell_type": "code",
   "execution_count": 11,
   "metadata": {},
   "outputs": [],
   "source": [
    "song = AudioSegment.from_wav('/home/erez/test.wav')"
   ]
  },
  {
   "cell_type": "code",
   "execution_count": null,
   "metadata": {},
   "outputs": [],
   "source": [
    "while True:\n",
    "    distance = robot.request_ultrasonic_sensor(5, 3)\n",
    "    print(distance)\n",
    "    if distance < 5: \n",
    "        print('playing')\n",
    "        play(song)\n",
    "    clear_output(wait=True)        "
   ]
  }
 ],
 "metadata": {
  "kernelspec": {
   "display_name": "Python 3",
   "language": "python",
   "name": "python3"
  },
  "language_info": {
   "codemirror_mode": {
    "name": "ipython",
    "version": 3
   },
   "file_extension": ".py",
   "mimetype": "text/x-python",
   "name": "python",
   "nbconvert_exporter": "python",
   "pygments_lexer": "ipython3",
   "version": "3.7.6"
  }
 },
 "nbformat": 4,
 "nbformat_minor": 4
}
