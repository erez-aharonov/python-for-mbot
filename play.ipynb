{
 "cells": [
  {
   "cell_type": "code",
   "execution_count": 1,
   "metadata": {},
   "outputs": [],
   "source": [
    "import pandas as pd\n",
    "import random\n",
    "from matplotlib import pyplot as plt\n",
    "import numpy as np\n",
    "from time import sleep\n",
    "import datetime\n",
    "from playsound import playsound\n",
    "from pydub import AudioSegment\n",
    "from pydub.playback import play\n",
    "from IPython.display import clear_output\n",
    "import pandas as pd\n",
    "from lib.mbot2 import Robot"
   ]
  },
  {
   "cell_type": "markdown",
   "metadata": {},
   "source": [
    "# Init"
   ]
  },
  {
   "cell_type": "code",
   "execution_count": 2,
   "metadata": {},
   "outputs": [],
   "source": [
    "robot = Robot(\"/dev/ttyUSB0\", debug=False)"
   ]
  },
  {
   "cell_type": "markdown",
   "metadata": {},
   "source": [
    "# RGB LED"
   ]
  },
  {
   "cell_type": "code",
   "execution_count": null,
   "metadata": {},
   "outputs": [],
   "source": [
    "for _ in range(10):\n",
    "    robot.do_rgb_led_on_board(random.randint(0, 255), random.randint(0, 255), random.randint(0, 255))\n",
    "    sleep(0.5)"
   ]
  },
  {
   "cell_type": "markdown",
   "metadata": {},
   "source": [
    "# Line follower"
   ]
  },
  {
   "cell_type": "code",
   "execution_count": null,
   "metadata": {},
   "outputs": [],
   "source": [
    "robot.request_line_follower(2)"
   ]
  },
  {
   "cell_type": "markdown",
   "metadata": {},
   "source": [
    "# Light sensor"
   ]
  },
  {
   "cell_type": "code",
   "execution_count": null,
   "metadata": {},
   "outputs": [],
   "source": [
    "robot.do_rgb_led_on_board(0, 0, 0)\n",
    "robot.request_light_on_board()"
   ]
  },
  {
   "cell_type": "markdown",
   "metadata": {},
   "source": [
    "# Ultra sonic sensor"
   ]
  },
  {
   "cell_type": "code",
   "execution_count": null,
   "metadata": {},
   "outputs": [],
   "source": [
    "robot.request_ultrasonic_sensor(3)"
   ]
  },
  {
   "cell_type": "markdown",
   "metadata": {},
   "source": [
    "# Buzzer"
   ]
  },
  {
   "cell_type": "code",
   "execution_count": null,
   "metadata": {},
   "outputs": [],
   "source": [
    "music = [\"E4\",\"E4\",\"F4\",\"G4\",\"G4\",\"F4\",\"E4\",\"D4\",\"C4\",\"C4\",\"D4\",\"E4\",\"E4\",\"D4\",\"D4\"]\n",
    "for tone in music:\n",
    "    robot.do_buzzer(tone ,500)"
   ]
  },
  {
   "cell_type": "markdown",
   "metadata": {},
   "source": [
    "# Motor"
   ]
  },
  {
   "cell_type": "code",
   "execution_count": null,
   "metadata": {},
   "outputs": [],
   "source": [
    "robot.do_move(0, 255)"
   ]
  },
  {
   "cell_type": "code",
   "execution_count": null,
   "metadata": {},
   "outputs": [],
   "source": [
    "robot.do_move(255, 0)"
   ]
  },
  {
   "cell_type": "code",
   "execution_count": null,
   "metadata": {},
   "outputs": [],
   "source": [
    "robot.do_move(0, 0)"
   ]
  },
  {
   "cell_type": "markdown",
   "metadata": {},
   "source": [
    "# play sound"
   ]
  },
  {
   "cell_type": "code",
   "execution_count": null,
   "metadata": {},
   "outputs": [],
   "source": [
    "song = AudioSegment.from_wav('/home/erez/test.wav')"
   ]
  },
  {
   "cell_type": "code",
   "execution_count": null,
   "metadata": {},
   "outputs": [],
   "source": [
    "while True:\n",
    "    distance = robot.request_ultrasonic_sensor(3)\n",
    "    print(distance)\n",
    "    if distance < 5: \n",
    "        print('playing')\n",
    "        play(song)\n",
    "    clear_output(wait=True)        "
   ]
  },
  {
   "cell_type": "markdown",
   "metadata": {},
   "source": [
    "# avoid obstacle"
   ]
  },
  {
   "cell_type": "code",
   "execution_count": 5,
   "metadata": {},
   "outputs": [],
   "source": [
    "sensors_samples_list = []\n",
    "start = datetime.datetime.now()\n",
    "robot.do_move(255, 255)\n",
    "robot.do_rgb_led_on_board(0, 0, 0)\n",
    "while (datetime.datetime.now() - start).total_seconds() < 5:\n",
    "    light = robot.request_light_on_board()\n",
    "    distance = robot.request_ultrasonic_sensor(3)\n",
    "    line_follower = robot.request_line_follower(2)\n",
    "#     sleep(0.1)\n",
    "    sound = robot.request_sound_sensor(4)\n",
    "    sensors_sample = (light, distance, line_follower, sound)\n",
    "    sensors_samples_list.append(sensors_sample)\n",
    "robot.do_move(0, 0)"
   ]
  },
  {
   "cell_type": "code",
   "execution_count": 6,
   "metadata": {},
   "outputs": [
    {
     "data": {
      "text/html": [
       "<div>\n",
       "<style scoped>\n",
       "    .dataframe tbody tr th:only-of-type {\n",
       "        vertical-align: middle;\n",
       "    }\n",
       "\n",
       "    .dataframe tbody tr th {\n",
       "        vertical-align: top;\n",
       "    }\n",
       "\n",
       "    .dataframe thead th {\n",
       "        text-align: right;\n",
       "    }\n",
       "</style>\n",
       "<table border=\"1\" class=\"dataframe\">\n",
       "  <thead>\n",
       "    <tr style=\"text-align: right;\">\n",
       "      <th></th>\n",
       "      <th>light</th>\n",
       "      <th>distance</th>\n",
       "      <th>line_follower</th>\n",
       "      <th>sound</th>\n",
       "    </tr>\n",
       "  </thead>\n",
       "  <tbody>\n",
       "    <tr>\n",
       "      <th>0</th>\n",
       "      <td>990.0</td>\n",
       "      <td>57.568966</td>\n",
       "      <td>3.0</td>\n",
       "      <td>538.0</td>\n",
       "    </tr>\n",
       "    <tr>\n",
       "      <th>1</th>\n",
       "      <td>986.0</td>\n",
       "      <td>40.982758</td>\n",
       "      <td>3.0</td>\n",
       "      <td>536.0</td>\n",
       "    </tr>\n",
       "    <tr>\n",
       "      <th>2</th>\n",
       "      <td>983.0</td>\n",
       "      <td>30.775862</td>\n",
       "      <td>3.0</td>\n",
       "      <td>555.0</td>\n",
       "    </tr>\n",
       "    <tr>\n",
       "      <th>3</th>\n",
       "      <td>990.0</td>\n",
       "      <td>19.844828</td>\n",
       "      <td>3.0</td>\n",
       "      <td>517.0</td>\n",
       "    </tr>\n",
       "    <tr>\n",
       "      <th>4</th>\n",
       "      <td>970.0</td>\n",
       "      <td>7.827586</td>\n",
       "      <td>3.0</td>\n",
       "      <td>548.0</td>\n",
       "    </tr>\n",
       "    <tr>\n",
       "      <th>5</th>\n",
       "      <td>967.0</td>\n",
       "      <td>3.879310</td>\n",
       "      <td>3.0</td>\n",
       "      <td>526.0</td>\n",
       "    </tr>\n",
       "    <tr>\n",
       "      <th>6</th>\n",
       "      <td>969.0</td>\n",
       "      <td>4.000000</td>\n",
       "      <td>3.0</td>\n",
       "      <td>523.0</td>\n",
       "    </tr>\n",
       "    <tr>\n",
       "      <th>7</th>\n",
       "      <td>976.0</td>\n",
       "      <td>3.465517</td>\n",
       "      <td>3.0</td>\n",
       "      <td>557.0</td>\n",
       "    </tr>\n",
       "    <tr>\n",
       "      <th>8</th>\n",
       "      <td>967.0</td>\n",
       "      <td>3.534483</td>\n",
       "      <td>3.0</td>\n",
       "      <td>536.0</td>\n",
       "    </tr>\n",
       "    <tr>\n",
       "      <th>9</th>\n",
       "      <td>977.0</td>\n",
       "      <td>3.500000</td>\n",
       "      <td>3.0</td>\n",
       "      <td>578.0</td>\n",
       "    </tr>\n",
       "    <tr>\n",
       "      <th>10</th>\n",
       "      <td>971.0</td>\n",
       "      <td>3.448276</td>\n",
       "      <td>3.0</td>\n",
       "      <td>570.0</td>\n",
       "    </tr>\n",
       "    <tr>\n",
       "      <th>11</th>\n",
       "      <td>976.0</td>\n",
       "      <td>3.051724</td>\n",
       "      <td>3.0</td>\n",
       "      <td>573.0</td>\n",
       "    </tr>\n",
       "    <tr>\n",
       "      <th>12</th>\n",
       "      <td>971.0</td>\n",
       "      <td>3.448276</td>\n",
       "      <td>3.0</td>\n",
       "      <td>585.0</td>\n",
       "    </tr>\n",
       "    <tr>\n",
       "      <th>13</th>\n",
       "      <td>977.0</td>\n",
       "      <td>2.931035</td>\n",
       "      <td>3.0</td>\n",
       "      <td>562.0</td>\n",
       "    </tr>\n",
       "    <tr>\n",
       "      <th>14</th>\n",
       "      <td>971.0</td>\n",
       "      <td>3.086207</td>\n",
       "      <td>3.0</td>\n",
       "      <td>559.0</td>\n",
       "    </tr>\n",
       "    <tr>\n",
       "      <th>15</th>\n",
       "      <td>973.0</td>\n",
       "      <td>3.051724</td>\n",
       "      <td>3.0</td>\n",
       "      <td>563.0</td>\n",
       "    </tr>\n",
       "    <tr>\n",
       "      <th>16</th>\n",
       "      <td>967.0</td>\n",
       "      <td>3.310345</td>\n",
       "      <td>3.0</td>\n",
       "      <td>569.0</td>\n",
       "    </tr>\n",
       "    <tr>\n",
       "      <th>17</th>\n",
       "      <td>966.0</td>\n",
       "      <td>3.379310</td>\n",
       "      <td>3.0</td>\n",
       "      <td>539.0</td>\n",
       "    </tr>\n",
       "  </tbody>\n",
       "</table>\n",
       "</div>"
      ],
      "text/plain": [
       "    light   distance  line_follower  sound\n",
       "0   990.0  57.568966            3.0  538.0\n",
       "1   986.0  40.982758            3.0  536.0\n",
       "2   983.0  30.775862            3.0  555.0\n",
       "3   990.0  19.844828            3.0  517.0\n",
       "4   970.0   7.827586            3.0  548.0\n",
       "5   967.0   3.879310            3.0  526.0\n",
       "6   969.0   4.000000            3.0  523.0\n",
       "7   976.0   3.465517            3.0  557.0\n",
       "8   967.0   3.534483            3.0  536.0\n",
       "9   977.0   3.500000            3.0  578.0\n",
       "10  971.0   3.448276            3.0  570.0\n",
       "11  976.0   3.051724            3.0  573.0\n",
       "12  971.0   3.448276            3.0  585.0\n",
       "13  977.0   2.931035            3.0  562.0\n",
       "14  971.0   3.086207            3.0  559.0\n",
       "15  973.0   3.051724            3.0  563.0\n",
       "16  967.0   3.310345            3.0  569.0\n",
       "17  966.0   3.379310            3.0  539.0"
      ]
     },
     "execution_count": 6,
     "metadata": {},
     "output_type": "execute_result"
    }
   ],
   "source": [
    "sensors_df = pd.DataFrame(sensors_samples_list, columns=['light', 'distance', 'line_follower', 'sound'])\n",
    "sensors_df"
   ]
  },
  {
   "cell_type": "code",
   "execution_count": 7,
   "metadata": {},
   "outputs": [
    {
     "data": {
      "text/plain": [
       "<matplotlib.legend.Legend at 0x7f8f6f8869d0>"
      ]
     },
     "execution_count": 7,
     "metadata": {},
     "output_type": "execute_result"
    },
    {
     "data": {
      "image/png": "[encoded data removed]",
      "text/plain": [
       "<Figure size 432x288 with 2 Axes>"
      ]
     },
     "metadata": {
      "needs_background": "light"
     },
     "output_type": "display_data"
    }
   ],
   "source": [
    "sensors_df['light'].plot(color='r')\n",
    "sensors_df['distance'].plot(color='b')\n",
    "sensors_df['sound'].plot(color='m')\n",
    "sensors_df['line_follower'].plot(secondary_y=True, color='g')\n",
    "plt.legend(['light', 'line_follower', 'distance'])"
   ]
  }
 ],
 "metadata": {
  "kernelspec": {
   "display_name": "Python 3",
   "language": "python",
   "name": "python3"
  },
  "language_info": {
   "codemirror_mode": {
    "name": "ipython",
    "version": 3
   },
   "file_extension": ".py",
   "mimetype": "text/x-python",
   "name": "python",
   "nbconvert_exporter": "python",
   "pygments_lexer": "ipython3",
   "version": "3.7.6"
  }
 },
 "nbformat": 4,
 "nbformat_minor": 4
}
